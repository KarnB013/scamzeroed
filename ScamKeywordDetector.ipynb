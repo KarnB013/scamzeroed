{
  "nbformat": 4,
  "nbformat_minor": 0,
  "metadata": {
    "colab": {
      "provenance": [],
      "authorship_tag": "ABX9TyNl3D7616aWxFz6rCZnDb9s",
      "include_colab_link": true
    },
    "kernelspec": {
      "name": "python3",
      "display_name": "Python 3"
    },
    "language_info": {
      "name": "python"
    }
  },
  "cells": [
    {
      "cell_type": "markdown",
      "metadata": {
        "id": "view-in-github",
        "colab_type": "text"
      },
      "source": [
        "<a href=\"https://colab.research.google.com/github/KarnB013/scamzeroed/blob/main/ScamKeywordDetector.ipynb\" target=\"_parent\"><img src=\"https://colab.research.google.com/assets/colab-badge.svg\" alt=\"Open In Colab\"/></a>"
      ]
    },
    {
      "cell_type": "markdown",
      "source": [
        "## Importing the necessary libraries"
      ],
      "metadata": {
        "id": "jIwO7E_qBXuX"
      }
    },
    {
      "cell_type": "code",
      "source": [
        "import pandas as pd\n",
        "import numpy as np\n",
        "from sklearn.svm import SVC\n",
        "from sklearn.naive_bayes import MultinomialNB, GaussianNB\n",
        "from sklearn.model_selection import train_test_split\n",
        "from sklearn.feature_extraction.text import CountVectorizer\n",
        "from sklearn.metrics import accuracy_score, precision_score, recall_score, f1_score\n",
        "import pickle"
      ],
      "metadata": {
        "id": "Rlx4HVof71wF"
      },
      "execution_count": 51,
      "outputs": []
    },
    {
      "cell_type": "markdown",
      "source": [
        "## Loading the trained Naive Bayes Model and Count Vector"
      ],
      "metadata": {
        "id": "fEqwAsr5DqIo"
      }
    },
    {
      "cell_type": "code",
      "source": [
        "# with open('model.pkl','wb') as f:\n",
        "#     pickle.dump(naive_bayes,f)\n",
        "\n",
        "with open('model.pkl', 'rb') as f:\n",
        "    naive_bayes2 = pickle.load(f)"
      ],
      "metadata": {
        "id": "BHbt_JSr0pzj"
      },
      "execution_count": 41,
      "outputs": []
    },
    {
      "cell_type": "code",
      "source": [
        "# with open('count_vector.pkl', 'wb') as f:\n",
        "#     pickle.dump(count_vector, f)\n",
        "\n",
        "with open('count_vector.pkl', 'rb') as f:\n",
        "    count_vector2 = pickle.load(f)"
      ],
      "metadata": {
        "id": "iGbDPCpF_-na"
      },
      "execution_count": 50,
      "outputs": []
    },
    {
      "cell_type": "code",
      "source": [
        "def detect_scam_words(text):\n",
        "  predictors = count_vector.transform(text)\n",
        "  result = naive_bayes.predict(predictors)\n",
        "  print(result)\n",
        "  average = sum(result)/len(result)\n",
        "  print(average)\n",
        "  if average >= 0.5:\n",
        "    return True\n",
        "  else:\n",
        "    return False"
      ],
      "metadata": {
        "id": "OnL1RRs86JjH"
      },
      "execution_count": 48,
      "outputs": []
    },
    {
      "cell_type": "code",
      "source": [
        "print(detect_scam_words([\"Congratulations\", \"hi\", \"you\", \"prize\"]))"
      ],
      "metadata": {
        "colab": {
          "base_uri": "https://localhost:8080/"
        },
        "id": "JqKbCE-i6kXC",
        "outputId": "54e165b8-b68a-4f58-e20f-8a72b3b0bf71"
      },
      "execution_count": 49,
      "outputs": [
        {
          "output_type": "stream",
          "name": "stdout",
          "text": [
            "[1 0 0 1]\n",
            "0.5\n",
            "True\n"
          ]
        }
      ]
    },
    {
      "cell_type": "markdown",
      "source": [
        "### **The below code was used to train the model and custom_vector, it is not necessary to run if using the saved weights**"
      ],
      "metadata": {
        "id": "QLnB7nonEsDn"
      }
    },
    {
      "cell_type": "markdown",
      "source": [
        "## Data Preprocessing"
      ],
      "metadata": {
        "id": "-Tz8oihjBcn4"
      }
    },
    {
      "cell_type": "code",
      "source": [
        "df = pd.read_table(\"SMSSpamCollection\" , sep='\\t' ,header =None)\n",
        "df = df.reindex(np.random.permutation(df.index))\n",
        "df.reset_index(inplace=True, drop=True)\n",
        "\n",
        "df"
      ],
      "metadata": {
        "id": "SIUzRbv7NMAJ"
      },
      "execution_count": null,
      "outputs": []
    },
    {
      "cell_type": "code",
      "source": [
        "df[0] = df[0].replace('ham', 0)\n",
        "df[0] = df[0].replace('spam', 1)\n",
        "\n",
        "df"
      ],
      "metadata": {
        "id": "z7z8b9h1_g2N"
      },
      "execution_count": null,
      "outputs": []
    },
    {
      "cell_type": "markdown",
      "source": [
        "## Training the model"
      ],
      "metadata": {
        "id": "gv55-GXaBvDE"
      }
    },
    {
      "cell_type": "code",
      "source": [
        "X_train, X_test, y_train, y_test = train_test_split(df[1], df[0], test_size=0.2, random_state=42)\n",
        "\n",
        "count_vector = CountVectorizer(ngram_range=(1, 1), lowercase = True , stop_words =  'english')\n",
        "X_train_count = count_vector.fit_transform(X_train)\n",
        "X_test_count = count_vector.transform(X_test)\n",
        "X_train_feature_list = count_vector.get_feature_names_out()\n",
        "\n",
        "X_train_feature_list"
      ],
      "metadata": {
        "id": "d_cIP1v_Q_Oz"
      },
      "execution_count": null,
      "outputs": []
    },
    {
      "cell_type": "code",
      "source": [
        "naive_bayes = MultinomialNB()\n",
        "y_train_reshape = y_train.array.reshape(-1, 1)\n",
        "naive_bayes.fit(X_train_count , y_train_reshape)\n",
        "predictions = naive_bayes.predict(X_test_count)\n",
        "\n",
        "predictions"
      ],
      "metadata": {
        "id": "id8nOFfWQ9l5"
      },
      "execution_count": null,
      "outputs": []
    },
    {
      "cell_type": "code",
      "source": [
        "print('Accuracy score: ', format(accuracy_score(predictions, y_test)))\n",
        "print('Precision score: ', format(precision_score(predictions, y_test)))\n",
        "print('Recall score: ', format(recall_score(predictions, y_test)))\n",
        "print('F1 score: ', format(f1_score(predictions, y_test)))"
      ],
      "metadata": {
        "colab": {
          "base_uri": "https://localhost:8080/"
        },
        "id": "HTB7nJsLSCVI",
        "outputId": "55fdf07e-e1bb-4c89-cbc0-203f4020a665"
      },
      "execution_count": 34,
      "outputs": [
        {
          "output_type": "stream",
          "name": "stdout",
          "text": [
            "Accuracy score:  0.9874439461883409\n",
            "Precision score:  0.9448275862068966\n",
            "Recall score:  0.958041958041958\n",
            "F1 score:  0.9513888888888888\n"
          ]
        }
      ]
    },
    {
      "cell_type": "code",
      "source": [
        "# The SVC had worse performance compared to the Naive Bayes Classifiers\n",
        "\n",
        "naive_bayes = SVC()\n",
        "y_train = y_train.array.reshape(-1, 1)\n",
        "naive_bayes.fit(X_train_count , y_train_reshape)\n",
        "predictions = naive_bayes.predict(X_test_count)"
      ],
      "metadata": {
        "colab": {
          "base_uri": "https://localhost:8080/"
        },
        "id": "DHNo8WSBucSv",
        "outputId": "d1ddba3f-5ea7-460f-f134-e1c69c9fbad9"
      },
      "execution_count": 26,
      "outputs": [
        {
          "output_type": "stream",
          "name": "stderr",
          "text": [
            "/usr/local/lib/python3.10/dist-packages/sklearn/utils/validation.py:1143: DataConversionWarning: A column-vector y was passed when a 1d array was expected. Please change the shape of y to (n_samples, ), for example using ravel().\n",
            "  y = column_or_1d(y, warn=True)\n"
          ]
        }
      ]
    }
  ]
}