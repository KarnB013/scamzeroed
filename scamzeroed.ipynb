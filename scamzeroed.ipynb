{
  "nbformat": 4,
  "nbformat_minor": 0,
  "metadata": {
    "colab": {
      "provenance": []
    },
    "kernelspec": {
      "name": "python3",
      "display_name": "Python 3"
    },
    "language_info": {
      "name": "python"
    }
  },
  "cells": [
    {
      "cell_type": "code",
      "source": [
        "!pip install anvil-uplink"
      ],
      "metadata": {
        "colab": {
          "base_uri": "https://localhost:8080/",
          "height": 437
        },
        "id": "03uFagXCAF3y",
        "outputId": "6a5ce5d4-34e3-4aa1-e961-e2ec750d4e56"
      },
      "execution_count": 1,
      "outputs": [
        {
          "output_type": "stream",
          "name": "stdout",
          "text": [
            "Collecting anvil-uplink\n",
            "  Downloading anvil_uplink-0.4.2-py2.py3-none-any.whl (90 kB)\n",
            "\u001b[2K     \u001b[90m━━━━━━━━━━━━━━━━━━━━━━━━━━━━━━━━━━━━━━━━\u001b[0m \u001b[32m90.1/90.1 kB\u001b[0m \u001b[31m1.8 MB/s\u001b[0m eta \u001b[36m0:00:00\u001b[0m\n",
            "\u001b[?25hCollecting argparse (from anvil-uplink)\n",
            "  Downloading argparse-1.4.0-py2.py3-none-any.whl (23 kB)\n",
            "Requirement already satisfied: future in /usr/local/lib/python3.10/dist-packages (from anvil-uplink) (0.18.3)\n",
            "Requirement already satisfied: six in /usr/local/lib/python3.10/dist-packages (from anvil-uplink) (1.16.0)\n",
            "Collecting ws4py (from anvil-uplink)\n",
            "  Downloading ws4py-0.5.1.tar.gz (51 kB)\n",
            "\u001b[2K     \u001b[90m━━━━━━━━━━━━━━━━━━━━━━━━━━━━━━━━━━━━━━━━\u001b[0m \u001b[32m51.4/51.4 kB\u001b[0m \u001b[31m5.0 MB/s\u001b[0m eta \u001b[36m0:00:00\u001b[0m\n",
            "\u001b[?25h  Preparing metadata (setup.py) ... \u001b[?25l\u001b[?25hdone\n",
            "Building wheels for collected packages: ws4py\n",
            "  Building wheel for ws4py (setup.py) ... \u001b[?25l\u001b[?25hdone\n",
            "  Created wheel for ws4py: filename=ws4py-0.5.1-py3-none-any.whl size=45228 sha256=9c85156102cabdc9bb5d3aab64e524b6a7ba440c2668dc60f62293b29ca3f6ca\n",
            "  Stored in directory: /root/.cache/pip/wheels/2e/7c/ad/d9c746276bf024d44296340869fcb169f1e5d80fb147351a57\n",
            "Successfully built ws4py\n",
            "Installing collected packages: ws4py, argparse, anvil-uplink\n",
            "Successfully installed anvil-uplink-0.4.2 argparse-1.4.0 ws4py-0.5.1\n"
          ]
        },
        {
          "output_type": "display_data",
          "data": {
            "application/vnd.colab-display-data+json": {
              "pip_warning": {
                "packages": [
                  "argparse",
                  "google"
                ]
              }
            }
          },
          "metadata": {}
        }
      ]
    },
    {
      "cell_type": "code",
      "source": [
        "import anvil.server\n",
        "\n",
        "anvil.server.connect(\"server_7657ABH5Q5ZXF4FU4L6ARAWA-GY4HFQS5AZZHVPRI\")"
      ],
      "metadata": {
        "colab": {
          "base_uri": "https://localhost:8080/"
        },
        "id": "eb0lKE39BSDp",
        "outputId": "655d6604-44b2-4394-d6b7-986340c11b5a"
      },
      "execution_count": 2,
      "outputs": [
        {
          "output_type": "stream",
          "name": "stdout",
          "text": [
            "Connecting to wss://anvil.works/uplink\n",
            "Anvil websocket open\n",
            "Connected to \"Default Environment\" as SERVER\n"
          ]
        }
      ]
    },
    {
      "cell_type": "code",
      "execution_count": 3,
      "metadata": {
        "colab": {
          "base_uri": "https://localhost:8080/"
        },
        "id": "ermcziO2-2g5",
        "outputId": "ed238853-0596-45d7-fb46-6feb59372630"
      },
      "outputs": [
        {
          "output_type": "stream",
          "name": "stdout",
          "text": [
            "Collecting rake-nltk\n",
            "  Downloading rake_nltk-1.0.6-py3-none-any.whl (9.1 kB)\n",
            "Requirement already satisfied: nltk<4.0.0,>=3.6.2 in /usr/local/lib/python3.10/dist-packages (from rake-nltk) (3.8.1)\n",
            "Requirement already satisfied: click in /usr/local/lib/python3.10/dist-packages (from nltk<4.0.0,>=3.6.2->rake-nltk) (8.1.7)\n",
            "Requirement already satisfied: joblib in /usr/local/lib/python3.10/dist-packages (from nltk<4.0.0,>=3.6.2->rake-nltk) (1.3.2)\n",
            "Requirement already satisfied: regex>=2021.8.3 in /usr/local/lib/python3.10/dist-packages (from nltk<4.0.0,>=3.6.2->rake-nltk) (2023.12.25)\n",
            "Requirement already satisfied: tqdm in /usr/local/lib/python3.10/dist-packages (from nltk<4.0.0,>=3.6.2->rake-nltk) (4.66.2)\n",
            "Installing collected packages: rake-nltk\n",
            "Successfully installed rake-nltk-1.0.6\n"
          ]
        }
      ],
      "source": [
        "pip install rake-nltk"
      ]
    },
    {
      "cell_type": "code",
      "source": [
        "from rake_nltk import Rake\n",
        "import nltk\n",
        "import re\n",
        "nltk.download('stopwords')\n",
        "nltk.download('punkt')\n",
        "r = Rake()"
      ],
      "metadata": {
        "colab": {
          "base_uri": "https://localhost:8080/"
        },
        "id": "BchpXy_F_BSz",
        "outputId": "502a8b9a-b6a8-470f-d697-a1bc8d56c5c0"
      },
      "execution_count": 4,
      "outputs": [
        {
          "output_type": "stream",
          "name": "stderr",
          "text": [
            "[nltk_data] Downloading package stopwords to /root/nltk_data...\n",
            "[nltk_data]   Unzipping corpora/stopwords.zip.\n",
            "[nltk_data] Downloading package punkt to /root/nltk_data...\n",
            "[nltk_data]   Unzipping tokenizers/punkt.zip.\n"
          ]
        }
      ]
    },
    {
      "cell_type": "code",
      "source": [
        "import requests\n",
        "import json\n",
        "import urllib\n",
        "from urllib.parse import quote"
      ],
      "metadata": {
        "id": "4W1VumQoPL0w"
      },
      "execution_count": 5,
      "outputs": []
    },
    {
      "cell_type": "code",
      "source": [
        "@anvil.server.callable\n",
        "def keyword(key):\n",
        "  r.extract_keywords_from_text(key)\n",
        "  a = r.get_ranked_phrases()\n",
        "  return a\n"
      ],
      "metadata": {
        "id": "96QCWYniAICz"
      },
      "execution_count": 6,
      "outputs": []
    },
    {
      "cell_type": "code",
      "source": [
        "@anvil.server.callable\n",
        "def url_extract(url_query):\n",
        "  url=r\"\\b((?:https?://)?(?:(?:www\\.)?(?:[\\da-z\\.-]+)\\.(?:[a-z]{2,6})|(?:(?:25[0-5]|2[0-4][0-9]|[01]?[0-9][0-9]?)\\.){3}(?:25[0-5]|2[0-4][0-9]|[01]?[0-9][0-9]?)|(?:(?:[0-9a-fA-F]{1,4}:){7,7}[0-9a-fA-F]{1,4}|(?:[0-9a-fA-F]{1,4}:){1,7}:|(?:[0-9a-fA-F]{1,4}:){1,6}:[0-9a-fA-F]{1,4}|(?:[0-9a-fA-F]{1,4}:){1,5}(?::[0-9a-fA-F]{1,4}){1,2}|(?:[0-9a-fA-F]{1,4}:){1,4}(?::[0-9a-fA-F]{1,4}){1,3}|(?:[0-9a-fA-F]{1,4}:){1,3}(?::[0-9a-fA-F]{1,4}){1,4}|(?:[0-9a-fA-F]{1,4}:){1,2}(?::[0-9a-fA-F]{1,4}){1,5}|[0-9a-fA-F]{1,4}:(?:(?::[0-9a-fA-F]{1,4}){1,6})|:(?:(?::[0-9a-fA-F]{1,4}){1,7}|:)|fe80:(?::[0-9a-fA-F]{0,4}){0,4}%[0-9a-zA-Z]{1,}|::(?:ffff(?::0{1,4}){0,1}:){0,1}(?:(?:25[0-5]|(?:2[0-4]|1{0,1}[0-9]){0,1}[0-9])\\.){3,3}(?:25[0-5]|(?:2[0-4]|1{0,1}[0-9]){0,1}[0-9])|(?:[0-9a-fA-F]{1,4}:){1,4}:(?:(?:25[0-5]|(?:2[0-4]|1{0,1}[0-9]){0,1}[0-9])\\.){3,3}(?:25[0-5]|(?:2[0-4]|1{0,1}[0-9]){0,1}[0-9])))(?::[0-9]{1,4}|[1-5][0-9]{4}|6[0-4][0-9]{3}|65[0-4][0-9]{2}|655[0-2][0-9]|6553[0-5])?(?:/[\\w\\.-]*)*/?)\\b\"\n",
        "  check_url = re.findall(url, url_query)\n",
        "  return check_url"
      ],
      "metadata": {
        "id": "5EZBReKAITAP"
      },
      "execution_count": 7,
      "outputs": []
    },
    {
      "cell_type": "code",
      "source": [],
      "metadata": {
        "id": "tFNAZVOYXb3J"
      },
      "execution_count": 7,
      "outputs": []
    },
    {
      "cell_type": "code",
      "source": [
        "@anvil.server.callable\n",
        "def is_scam(url_query):\n",
        "  for i in url_query:\n",
        "    ii = i.replace(\"/\", \"%2F\")\n",
        "    req = \"https://www.ipqualityscore.com/api/json/url/MdoNe2UZwelnq6u39GwgBYre2rqz3uNH/\"+quote(ii)\n",
        "    resp = requests.get(req)\n",
        "    print(resp.json())\n",
        "    if(resp.status_code == 200):\n",
        "      spam = resp.json()['spamming']\n",
        "      malware = resp.json()['malware']\n",
        "      sus = resp.json()['suspicious']\n",
        "      phishing = resp.json()['phishing']\n",
        "      unsafe = resp.json()['unsafe']\n",
        "      risk = resp.json()['risk_score']\n",
        "\n",
        "    if(spam or malware or sus or phishing or unsafe or risk > 75):\n",
        "      return True\n",
        "    else:\n",
        "      return False"
      ],
      "metadata": {
        "id": "7oJIw5kWXBRX"
      },
      "execution_count": 13,
      "outputs": []
    },
    {
      "cell_type": "code",
      "source": [
        "anvil.server.wait_forever()"
      ],
      "metadata": {
        "colab": {
          "base_uri": "https://localhost:8080/",
          "height": 361
        },
        "id": "EviseSh8HEqQ",
        "outputId": "dda7d0fe-3baa-43ce-d7ae-3122bc7c5078"
      },
      "execution_count": 14,
      "outputs": [
        {
          "output_type": "stream",
          "name": "stdout",
          "text": [
            "{'message': 'Success.', 'success': True, 'unsafe': False, 'domain': 'sca.it', 'root_domain': 'sca.it', 'ip_address': '185.2.4.83', 'server': 'Apache', 'content_type': 'text/html; charset=UTF-8', 'status_code': 200, 'page_size': 10906, 'domain_rank': 0, 'dns_valid': True, 'parking': False, 'spamming': False, 'malware': False, 'phishing': False, 'suspicious': False, 'adult': False, 'risk_score': 0, 'country_code': 'GB', 'category': 'Business', 'domain_age': {'human': '27 years ago', 'timestamp': 862401267, 'iso': '1997-04-30T07:54:27-04:00'}, 'domain_trust': 'Upgraded plan required.', 'redirected': False, 'short_link_redirect': False, 'hosted_content': False, 'page_title': 'SCA | Societ Consulenze Aziendali Savigliano', 'risky_tld': False, 'spf_record': True, 'dmarc_record': False, 'a_records': ['185.2.4.83'], 'mx_records': ['sca-it.mail.protection.outlook.com'], 'ns_records': ['ns1.register.it', 'ns2.register.it'], 'language_code': 'N/A', 'final_url': 'http://sca.it', 'request_id': 'L86Qu40NSG'}\n",
            "{'message': 'Success.', 'success': True, 'unsafe': False, 'domain': 'usndf.com', 'root_domain': 'usndf.com', 'server': 'N/A', 'content_type': '', 'status_code': 0, 'page_size': 0, 'domain_rank': 0, 'dns_valid': False, 'parking': False, 'spamming': False, 'malware': False, 'phishing': False, 'suspicious': True, 'adult': False, 'risk_score': 92, 'category': 'N/A', 'domain_age': {'human': 'just now', 'timestamp': 1708215851, 'iso': '2024-02-17T19:24:11-05:00'}, 'domain_trust': 'Upgraded plan required.', 'redirected': False, 'short_link_redirect': False, 'hosted_content': False, 'page_title': 'N/A', 'risky_tld': False, 'spf_record': False, 'dmarc_record': False, 'a_records': [], 'mx_records': [], 'ns_records': [], 'language_code': 'N/A', 'final_url': 'http://usndf.com', 'request_id': 'L86ZRKoYMw'}\n",
            "{'message': 'Success.', 'success': True, 'unsafe': False, 'domain': 'scamsite.net', 'root_domain': 'scamsite.net', 'server': 'N/A', 'content_type': '', 'status_code': 0, 'page_size': 0, 'domain_rank': 0, 'dns_valid': False, 'parking': False, 'spamming': False, 'malware': False, 'phishing': False, 'suspicious': True, 'adult': False, 'risk_score': 92, 'category': 'N/A', 'domain_age': {'human': 'just now', 'timestamp': 1708216028, 'iso': '2024-02-17T19:27:08-05:00'}, 'domain_trust': 'Upgraded plan required.', 'redirected': False, 'short_link_redirect': False, 'hosted_content': False, 'page_title': 'N/A', 'risky_tld': False, 'spf_record': False, 'dmarc_record': False, 'a_records': [], 'mx_records': [], 'ns_records': [], 'language_code': 'N/A', 'final_url': 'http://scamsite.net', 'request_id': 'L86mU6XEFu'}\n",
            "{'message': 'Success.', 'success': True, 'unsafe': False, 'domain': 'scamsite.net', 'root_domain': 'scamsite.net', 'ip_address': '127.0.0.1', 'server': '', 'content_type': 'text/html; charset=UTF-8', 'status_code': 404, 'page_size': 172, 'domain_rank': 0, 'dns_valid': True, 'parking': False, 'spamming': False, 'malware': False, 'phishing': False, 'suspicious': True, 'adult': False, 'risk_score': 75, 'country_code': 'N/A', 'category': 'N/A', 'domain_age': {'human': 'just now', 'timestamp': 1708216028, 'iso': '2024-02-17T19:27:08-05:00'}, 'domain_trust': 'Upgraded plan required.', 'redirected': False, 'short_link_redirect': False, 'hosted_content': False, 'page_title': 'N/A', 'risky_tld': False, 'spf_record': False, 'dmarc_record': False, 'a_records': [], 'mx_records': [], 'ns_records': [], 'language_code': 'N/A', 'final_url': 'http://scamsite.net', 'request_id': 'L86nQvleQA'}\n",
            "{'message': 'Success.', 'success': True, 'unsafe': False, 'domain': 'anvil.works', 'ip_address': '52.56.203.177', 'server': 'N/A', 'content_type': 'text/html; charset=utf-8', 'status_code': 200, 'page_size': 12781, 'domain_rank': 318215, 'dns_valid': True, 'parking': False, 'spamming': False, 'malware': False, 'phishing': False, 'suspicious': False, 'adult': False, 'risk_score': 0, 'country_code': 'GB', 'category': 'Computers & Internet', 'domain_age': {'human': '9 years ago', 'timestamp': 1423999183, 'iso': '2015-02-15T06:19:43-05:00'}, 'redirected': False, 'language_code': 'N/A', 'final_url': 'https://anvil.works/build', 'request_id': 'L87990Arks'}\n",
            "{'message': 'Success.', 'success': True, 'unsafe': False, 'domain': 'anvil.works', 'ip_address': '52.56.203.177', 'server': 'N/A', 'content_type': 'text/html; charset=utf-8', 'status_code': 200, 'page_size': 12781, 'domain_rank': 318215, 'dns_valid': True, 'parking': False, 'spamming': False, 'malware': False, 'phishing': False, 'suspicious': False, 'adult': False, 'risk_score': 0, 'country_code': 'GB', 'category': 'Computers & Internet', 'domain_age': {'human': '9 years ago', 'timestamp': 1423999183, 'iso': '2015-02-15T06:19:43-05:00'}, 'redirected': False, 'language_code': 'N/A', 'final_url': 'https://anvil.works/build', 'request_id': 'L879oMlbPr'}\n"
          ]
        },
        {
          "output_type": "error",
          "ename": "KeyboardInterrupt",
          "evalue": "",
          "traceback": [
            "\u001b[0;31m---------------------------------------------------------------------------\u001b[0m",
            "\u001b[0;31mKeyboardInterrupt\u001b[0m                         Traceback (most recent call last)",
            "\u001b[0;32m<ipython-input-14-95cac3476493>\u001b[0m in \u001b[0;36m<cell line: 1>\u001b[0;34m()\u001b[0m\n\u001b[0;32m----> 1\u001b[0;31m \u001b[0manvil\u001b[0m\u001b[0;34m.\u001b[0m\u001b[0mserver\u001b[0m\u001b[0;34m.\u001b[0m\u001b[0mwait_forever\u001b[0m\u001b[0;34m(\u001b[0m\u001b[0;34m)\u001b[0m\u001b[0;34m\u001b[0m\u001b[0;34m\u001b[0m\u001b[0m\n\u001b[0m",
            "\u001b[0;32m/usr/local/lib/python3.10/dist-packages/anvil/server.py\u001b[0m in \u001b[0;36mwait_forever\u001b[0;34m()\u001b[0m\n\u001b[1;32m    435\u001b[0m     \u001b[0m_get_connection\u001b[0m\u001b[0;34m(\u001b[0m\u001b[0;34m)\u001b[0m\u001b[0;34m\u001b[0m\u001b[0;34m\u001b[0m\u001b[0m\n\u001b[1;32m    436\u001b[0m     \u001b[0;32mwhile\u001b[0m \u001b[0;32mTrue\u001b[0m\u001b[0;34m:\u001b[0m\u001b[0;34m\u001b[0m\u001b[0;34m\u001b[0m\u001b[0m\n\u001b[0;32m--> 437\u001b[0;31m         \u001b[0mtime\u001b[0m\u001b[0;34m.\u001b[0m\u001b[0msleep\u001b[0m\u001b[0;34m(\u001b[0m\u001b[0;36m1\u001b[0m\u001b[0;34m)\u001b[0m\u001b[0;34m\u001b[0m\u001b[0;34m\u001b[0m\u001b[0m\n\u001b[0m",
            "\u001b[0;31mKeyboardInterrupt\u001b[0m: "
          ]
        }
      ]
    }
  ]
}