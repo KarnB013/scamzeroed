{
  "nbformat": 4,
  "nbformat_minor": 0,
  "metadata": {
    "colab": {
      "provenance": [],
      "authorship_tag": "ABX9TyPSpIFfJXBAXyNHVVuTmg3T",
      "include_colab_link": true
    },
    "kernelspec": {
      "name": "python3",
      "display_name": "Python 3"
    },
    "language_info": {
      "name": "python"
    }
  },
  "cells": [
    {
      "cell_type": "markdown",
      "metadata": {
        "id": "view-in-github",
        "colab_type": "text"
      },
      "source": [
        "<a href=\"https://colab.research.google.com/github/KarnB013/scamzeroed/blob/main/scamzeroed.ipynb\" target=\"_parent\"><img src=\"https://colab.research.google.com/assets/colab-badge.svg\" alt=\"Open In Colab\"/></a>"
      ]
    },
    {
      "cell_type": "code",
      "source": [
        "!pip install anvil-uplink"
      ],
      "metadata": {
        "colab": {
          "base_uri": "https://localhost:8080/",
          "height": 437
        },
        "id": "03uFagXCAF3y",
        "outputId": "6eea44bd-c355-403b-f325-fdff88ea34c6"
      },
      "execution_count": null,
      "outputs": [
        {
          "output_type": "stream",
          "name": "stdout",
          "text": [
            "Collecting anvil-uplink\n",
            "  Downloading anvil_uplink-0.4.2-py2.py3-none-any.whl (90 kB)\n",
            "\u001b[?25l     \u001b[90m━━━━━━━━━━━━━━━━━━━━━━━━━━━━━━━━━━━━━━━━\u001b[0m \u001b[32m0.0/90.1 kB\u001b[0m \u001b[31m?\u001b[0m eta \u001b[36m-:--:--\u001b[0m\r\u001b[2K     \u001b[90m━━━━━━━━━━━━━━━━━━━━━━━━━━━━━━━━━━━━━━━━\u001b[0m \u001b[32m90.1/90.1 kB\u001b[0m \u001b[31m2.6 MB/s\u001b[0m eta \u001b[36m0:00:00\u001b[0m\n",
            "\u001b[?25hCollecting argparse (from anvil-uplink)\n",
            "  Downloading argparse-1.4.0-py2.py3-none-any.whl (23 kB)\n",
            "Requirement already satisfied: future in /usr/local/lib/python3.10/dist-packages (from anvil-uplink) (0.18.3)\n",
            "Requirement already satisfied: six in /usr/local/lib/python3.10/dist-packages (from anvil-uplink) (1.16.0)\n",
            "Collecting ws4py (from anvil-uplink)\n",
            "  Downloading ws4py-0.5.1.tar.gz (51 kB)\n",
            "\u001b[2K     \u001b[90m━━━━━━━━━━━━━━━━━━━━━━━━━━━━━━━━━━━━━━━━\u001b[0m \u001b[32m51.4/51.4 kB\u001b[0m \u001b[31m6.3 MB/s\u001b[0m eta \u001b[36m0:00:00\u001b[0m\n",
            "\u001b[?25h  Preparing metadata (setup.py) ... \u001b[?25l\u001b[?25hdone\n",
            "Building wheels for collected packages: ws4py\n",
            "  Building wheel for ws4py (setup.py) ... \u001b[?25l\u001b[?25hdone\n",
            "  Created wheel for ws4py: filename=ws4py-0.5.1-py3-none-any.whl size=45228 sha256=c4f0072d42f0b64d5475573c7881dc7ab01e3219b840f539cd406abbb3203c5a\n",
            "  Stored in directory: /root/.cache/pip/wheels/2e/7c/ad/d9c746276bf024d44296340869fcb169f1e5d80fb147351a57\n",
            "Successfully built ws4py\n",
            "Installing collected packages: ws4py, argparse, anvil-uplink\n",
            "Successfully installed anvil-uplink-0.4.2 argparse-1.4.0 ws4py-0.5.1\n"
          ]
        },
        {
          "output_type": "display_data",
          "data": {
            "application/vnd.colab-display-data+json": {
              "pip_warning": {
                "packages": [
                  "argparse",
                  "google"
                ]
              }
            }
          },
          "metadata": {}
        }
      ]
    },
    {
      "cell_type": "code",
      "source": [
        "import anvil.server\n",
        "\n",
        "anvil.server.connect(\"server_7657ABH5Q5ZXF4FU4L6ARAWA-GY4HFQS5AZZHVPRI\")"
      ],
      "metadata": {
        "colab": {
          "base_uri": "https://localhost:8080/"
        },
        "id": "eb0lKE39BSDp",
        "outputId": "9a93313f-b888-4545-ce20-c00826b88ad2"
      },
      "execution_count": null,
      "outputs": [
        {
          "output_type": "stream",
          "name": "stdout",
          "text": [
            "Connecting to wss://anvil.works/uplink\n",
            "Anvil websocket open\n",
            "Connected to \"Default Environment\" as SERVER\n"
          ]
        }
      ]
    },
    {
      "cell_type": "code",
      "execution_count": null,
      "metadata": {
        "colab": {
          "base_uri": "https://localhost:8080/"
        },
        "id": "ermcziO2-2g5",
        "outputId": "427c0ad7-6f4a-49de-fe04-c93ff3074982"
      },
      "outputs": [
        {
          "output_type": "stream",
          "name": "stdout",
          "text": [
            "Collecting rake-nltk\n",
            "  Downloading rake_nltk-1.0.6-py3-none-any.whl (9.1 kB)\n",
            "Requirement already satisfied: nltk<4.0.0,>=3.6.2 in /usr/local/lib/python3.10/dist-packages (from rake-nltk) (3.8.1)\n",
            "Requirement already satisfied: click in /usr/local/lib/python3.10/dist-packages (from nltk<4.0.0,>=3.6.2->rake-nltk) (8.1.7)\n",
            "Requirement already satisfied: joblib in /usr/local/lib/python3.10/dist-packages (from nltk<4.0.0,>=3.6.2->rake-nltk) (1.3.2)\n",
            "Requirement already satisfied: regex>=2021.8.3 in /usr/local/lib/python3.10/dist-packages (from nltk<4.0.0,>=3.6.2->rake-nltk) (2023.12.25)\n",
            "Requirement already satisfied: tqdm in /usr/local/lib/python3.10/dist-packages (from nltk<4.0.0,>=3.6.2->rake-nltk) (4.66.2)\n",
            "Installing collected packages: rake-nltk\n",
            "Successfully installed rake-nltk-1.0.6\n"
          ]
        }
      ],
      "source": [
        "pip install rake-nltk"
      ]
    },
    {
      "cell_type": "code",
      "source": [
        "from rake_nltk import Rake\n",
        "import nltk\n",
        "import re\n",
        "nltk.download('stopwords')\n",
        "nltk.download('punkt')\n",
        "r = Rake()"
      ],
      "metadata": {
        "colab": {
          "base_uri": "https://localhost:8080/"
        },
        "id": "BchpXy_F_BSz",
        "outputId": "ebb3ee6a-cea5-487d-ef25-253695a10598"
      },
      "execution_count": null,
      "outputs": [
        {
          "output_type": "stream",
          "name": "stderr",
          "text": [
            "[nltk_data] Downloading package stopwords to /root/nltk_data...\n",
            "[nltk_data]   Unzipping corpora/stopwords.zip.\n",
            "[nltk_data] Downloading package punkt to /root/nltk_data...\n",
            "[nltk_data]   Unzipping tokenizers/punkt.zip.\n"
          ]
        }
      ]
    },
    {
      "cell_type": "code",
      "source": [
        "import requests\n",
        "import json\n",
        "import urllib\n",
        "from urllib.parse import quote\n",
        "import pandas as pd\n",
        "import numpy as np\n",
        "from sklearn.svm import SVC\n",
        "from sklearn.naive_bayes import MultinomialNB, GaussianNB\n",
        "from sklearn.model_selection import train_test_split\n",
        "from sklearn.feature_extraction.text import CountVectorizer\n",
        "from sklearn.metrics import accuracy_score, precision_score, recall_score, f1_score\n",
        "import pickle"
      ],
      "metadata": {
        "id": "4W1VumQoPL0w"
      },
      "execution_count": null,
      "outputs": []
    },
    {
      "cell_type": "code",
      "source": [
        "df = pd.read_table(\"SMSSpamCollection\" , sep='\\t' ,header =None)\n",
        "df = df.reindex(np.random.permutation(df.index))\n",
        "df.reset_index(inplace=True, drop=True)\n",
        "\n",
        "df"
      ],
      "metadata": {
        "id": "PDBtKsKoPDoq"
      },
      "execution_count": null,
      "outputs": []
    },
    {
      "cell_type": "code",
      "source": [
        "df[0] = df[0].replace('ham', 0)\n",
        "df[0] = df[0].replace('spam', 1)\n",
        "\n",
        "df"
      ],
      "metadata": {
        "id": "9Z4g1ijCPEOp"
      },
      "execution_count": null,
      "outputs": []
    },
    {
      "cell_type": "code",
      "source": [
        "X_train, X_test, y_train, y_test = train_test_split(df[1], df[0], test_size=0.2, random_state=42)\n",
        "\n",
        "count_vector = CountVectorizer(ngram_range=(1, 1), lowercase = True , stop_words =  'english')\n",
        "X_train_count = count_vector.fit_transform(X_train)\n",
        "X_test_count = count_vector.transform(X_test)\n",
        "X_train_feature_list = count_vector.get_feature_names_out()\n",
        "\n",
        "X_train_feature_list"
      ],
      "metadata": {
        "id": "2zLSPpbvPGRr"
      },
      "execution_count": null,
      "outputs": []
    },
    {
      "cell_type": "code",
      "source": [
        "naive_bayes = MultinomialNB()\n",
        "y_train_reshape = y_train.array.reshape(-1, 1)\n",
        "naive_bayes.fit(X_train_count , y_train_reshape)\n",
        "predictions = naive_bayes.predict(X_test_count)\n",
        "\n",
        "predictions"
      ],
      "metadata": {
        "id": "eSaTAzlUPIfo"
      },
      "execution_count": null,
      "outputs": []
    },
    {
      "cell_type": "code",
      "source": [
        "print('Accuracy score: ', format(accuracy_score(predictions, y_test)))\n",
        "print('Precision score: ', format(precision_score(predictions, y_test)))\n",
        "print('Recall score: ', format(recall_score(predictions, y_test)))\n",
        "print('F1 score: ', format(f1_score(predictions, y_test)))"
      ],
      "metadata": {
        "id": "cdfRePLtPKpm"
      },
      "execution_count": null,
      "outputs": []
    },
    {
      "cell_type": "code",
      "source": [
        "# The SVC had worse performance compared to the Naive Bayes Classifiers\n",
        "\n",
        "naive_bayes = SVC()\n",
        "y_train = y_train.array.reshape(-1, 1)\n",
        "naive_bayes.fit(X_train_count , y_train_reshape)\n",
        "predictions = naive_bayes.predict(X_test_count)"
      ],
      "metadata": {
        "id": "AyNZ80VwPMpf"
      },
      "execution_count": null,
      "outputs": []
    },
    {
      "cell_type": "code",
      "source": [
        "# with open('model.pkl','wb') as f:\n",
        "#     pickle.dump(naive_bayes,f)\n",
        "\n",
        "with open('model.pkl', 'rb') as f:\n",
        "    naive_bayes2 = pickle.load(f)"
      ],
      "metadata": {
        "id": "Bv4PtkDCPRCM"
      },
      "execution_count": 26,
      "outputs": []
    },
    {
      "cell_type": "code",
      "source": [
        "# with open('count_vector.pkl', 'wb') as f:\n",
        "#     pickle.dump(count_vector, f)\n",
        "\n",
        "with open('count_vector.pkl', 'rb') as f:\n",
        "    count_vector2 = pickle.load(f)"
      ],
      "metadata": {
        "id": "E4i-j77DPTo5"
      },
      "execution_count": 27,
      "outputs": []
    },
    {
      "cell_type": "code",
      "source": [
        "@anvil.server.callable\n",
        "def detect_scam_words(text):\n",
        "  predictors = count_vector.transform(text)\n",
        "  result = naive_bayes.predict(predictors)\n",
        "  print(result)\n",
        "  average = sum(result)/len(result)\n",
        "  print(average)\n",
        "  if average >= 0.5:\n",
        "    return True\n",
        "  else:\n",
        "    return False"
      ],
      "metadata": {
        "id": "IY3WNakcPWvT"
      },
      "execution_count": 28,
      "outputs": []
    },
    {
      "cell_type": "code",
      "source": [
        "@anvil.server.callable\n",
        "def keyword(key):\n",
        "  r.extract_keywords_from_text(key)\n",
        "  a = r.get_ranked_phrases()\n",
        "  return a\n"
      ],
      "metadata": {
        "id": "96QCWYniAICz"
      },
      "execution_count": null,
      "outputs": []
    },
    {
      "cell_type": "code",
      "source": [
        "@anvil.server.callable\n",
        "def url_extract(url_query):\n",
        "  url=r\"\\b((?:https?://)?(?:(?:www\\.)?(?:[\\da-z\\.-]+)\\.(?:[a-z]{2,6})|(?:(?:25[0-5]|2[0-4][0-9]|[01]?[0-9][0-9]?)\\.){3}(?:25[0-5]|2[0-4][0-9]|[01]?[0-9][0-9]?)|(?:(?:[0-9a-fA-F]{1,4}:){7,7}[0-9a-fA-F]{1,4}|(?:[0-9a-fA-F]{1,4}:){1,7}:|(?:[0-9a-fA-F]{1,4}:){1,6}:[0-9a-fA-F]{1,4}|(?:[0-9a-fA-F]{1,4}:){1,5}(?::[0-9a-fA-F]{1,4}){1,2}|(?:[0-9a-fA-F]{1,4}:){1,4}(?::[0-9a-fA-F]{1,4}){1,3}|(?:[0-9a-fA-F]{1,4}:){1,3}(?::[0-9a-fA-F]{1,4}){1,4}|(?:[0-9a-fA-F]{1,4}:){1,2}(?::[0-9a-fA-F]{1,4}){1,5}|[0-9a-fA-F]{1,4}:(?:(?::[0-9a-fA-F]{1,4}){1,6})|:(?:(?::[0-9a-fA-F]{1,4}){1,7}|:)|fe80:(?::[0-9a-fA-F]{0,4}){0,4}%[0-9a-zA-Z]{1,}|::(?:ffff(?::0{1,4}){0,1}:){0,1}(?:(?:25[0-5]|(?:2[0-4]|1{0,1}[0-9]){0,1}[0-9])\\.){3,3}(?:25[0-5]|(?:2[0-4]|1{0,1}[0-9]){0,1}[0-9])|(?:[0-9a-fA-F]{1,4}:){1,4}:(?:(?:25[0-5]|(?:2[0-4]|1{0,1}[0-9]){0,1}[0-9])\\.){3,3}(?:25[0-5]|(?:2[0-4]|1{0,1}[0-9]){0,1}[0-9])))(?::[0-9]{1,4}|[1-5][0-9]{4}|6[0-4][0-9]{3}|65[0-4][0-9]{2}|655[0-2][0-9]|6553[0-5])?(?:/[\\w\\.-]*)*/?)\\b\"\n",
        "  check_url = re.findall(url, url_query)\n",
        "  return check_url"
      ],
      "metadata": {
        "id": "5EZBReKAITAP"
      },
      "execution_count": null,
      "outputs": []
    },
    {
      "cell_type": "code",
      "source": [
        "@anvil.server.callable\n",
        "def is_scam(url_query):\n",
        "  for i in url_query:\n",
        "    ii = i.replace(\"/\", \"%2F\")\n",
        "    req = \"https://www.ipqualityscore.com/api/json/url/your_private_key/\"+quote(ii)\n",
        "    resp = requests.get(req)\n",
        "    print(resp.json())\n",
        "    if(resp.status_code == 200):\n",
        "      spam = resp.json()['spamming']\n",
        "      malware = resp.json()['malware']\n",
        "      sus = resp.json()['suspicious']\n",
        "      phishing = resp.json()['phishing']\n",
        "      unsafe = resp.json()['unsafe']\n",
        "      risk = resp.json()['risk_score']\n",
        "\n",
        "    if(spam or malware or sus or phishing or unsafe or risk > 75):\n",
        "      return True\n",
        "    else:\n",
        "      return False"
      ],
      "metadata": {
        "id": "7oJIw5kWXBRX"
      },
      "execution_count": null,
      "outputs": []
    },
    {
      "cell_type": "code",
      "source": [
        "anvil.server.wait_forever()"
      ],
      "metadata": {
        "colab": {
          "base_uri": "https://localhost:8080/",
          "height": 468
        },
        "id": "EviseSh8HEqQ",
        "outputId": "58b4f7c7-bf91-427a-edf3-d33f363f416d"
      },
      "execution_count": 25,
      "outputs": [
        {
          "metadata": {
            "tags": null
          },
          "name": "stdout",
          "output_type": "stream",
          "text": [
            "{'message': 'Success.', 'success': True, 'unsafe': False, 'domain': 'scamsite.me', 'root_domain': 'scamsite.me', 'server': 'N/A', 'content_type': '', 'status_code': 0, 'page_size': 0, 'domain_rank': 0, 'dns_valid': False, 'parking': False, 'spamming': False, 'malware': False, 'phishing': False, 'suspicious': True, 'adult': False, 'risk_score': 92, 'country_code': 'N/A', 'language_code': 'N/A', 'category': 'N/A', 'domain_age': {'human': 'just now', 'timestamp': 1708288285, 'iso': '2024-02-18T15:31:25-05:00'}, 'domain_trust': 'Upgraded plan required.', 'redirected': False, 'short_link_redirect': False, 'hosted_content': False, 'page_title': 'N/A', 'risky_tld': False, 'spf_record': False, 'dmarc_record': False, 'technologies': [], 'a_records': [], 'mx_records': [], 'ns_records': [], 'ip_address': 'N/A', 'final_url': 'http://scamsite.me', 'request_id': 'L9Urx7Duye'}\n",
            "[0]\n",
            "0.0\n",
            "{'message': 'Success.', 'success': True, 'unsafe': False, 'domain': 'scam.de', 'root_domain': 'scam.de', 'ip_address': '217.160.0.198', 'server': 'Apache', 'content_type': 'text/html; charset=UTF-8', 'status_code': 200, 'page_size': 3534, 'domain_rank': 725584, 'dns_valid': True, 'parking': False, 'spamming': False, 'malware': False, 'phishing': False, 'suspicious': False, 'adult': False, 'risk_score': 74, 'country_code': 'DE', 'language_code': 'N/A', 'category': 'Shopping', 'domain_age': {'human': '5 years ago', 'timestamp': 1536291803, 'iso': '2018-09-06T23:43:23-04:00'}, 'domain_trust': 'Upgraded plan required.', 'redirected': False, 'short_link_redirect': False, 'hosted_content': False, 'page_title': 'www.scam.de', 'risky_tld': False, 'spf_record': True, 'dmarc_record': False, 'technologies': [], 'a_records': ['217.160.0.198'], 'mx_records': ['mx01.ionos.de', 'mx00.ionos.de'], 'ns_records': ['ns1029.ui-dns.org', 'ns1029.ui-dns.de', 'ns1029.ui-dns.com', 'ns1029.ui-dns.biz'], 'final_url': 'http://scam.de', 'request_id': 'L9apwbWq9K'}\n",
            "[0 0]\n",
            "0.0\n",
            "{'message': 'Success.', 'success': True, 'unsafe': False, 'domain': 'hack.de', 'root_domain': 'hack.de', 'server': 'N/A', 'content_type': '', 'status_code': 0, 'page_size': 0, 'domain_rank': 0, 'dns_valid': True, 'parking': True, 'spamming': True, 'malware': False, 'phishing': False, 'suspicious': True, 'adult': False, 'risk_score': 92, 'country_code': 'N/A', 'language_code': 'N/A', 'category': 'Business', 'domain_age': {'human': '4 years ago', 'timestamp': 1592607680, 'iso': '2020-06-19T19:01:20-04:00'}, 'domain_trust': 'Upgraded plan required.', 'redirected': False, 'short_link_redirect': False, 'hosted_content': False, 'page_title': 'N/A', 'risky_tld': False, 'spf_record': True, 'dmarc_record': False, 'technologies': [], 'a_records': [], 'mx_records': ['mx00.ionos.de', 'mx01.ionos.de'], 'ns_records': ['ns1093.ui-dns.com', 'ns1111.ui-dns.org', 'ns1045.ui-dns.de', 'ns1071.ui-dns.biz'], 'ip_address': 'N/A', 'final_url': 'http://hack.de', 'request_id': 'L9aqnC9v6q'}\n",
            "[0 0]\n",
            "0.0\n",
            "{'message': 'Success.', 'success': True, 'unsafe': False, 'domain': 'hello.de', 'root_domain': 'hello.de', 'ip_address': '81.169.145.64', 'server': 'Apache/2.4.58 (U', 'content_type': 'text/html; charset=UTF-8', 'status_code': 200, 'page_size': 49152, 'domain_rank': 0, 'dns_valid': True, 'parking': False, 'spamming': False, 'malware': False, 'phishing': False, 'suspicious': False, 'adult': False, 'risk_score': 0, 'country_code': 'DE', 'language_code': 'N/A', 'category': 'Shopping', 'domain_age': {'human': '3 years ago', 'timestamp': 1616835977, 'iso': '2021-03-27T05:06:17-04:00'}, 'domain_trust': 'Upgraded plan required.', 'redirected': False, 'short_link_redirect': False, 'hosted_content': False, 'page_title': 'N/A', 'risky_tld': False, 'spf_record': True, 'dmarc_record': False, 'technologies': [], 'a_records': ['81.169.145.64'], 'mx_records': ['hello-de.mail.protection.outlook.com'], 'ns_records': ['docks08.rzone.de', 'shades15.rzone.de'], 'final_url': 'http://hello.de', 'request_id': 'L9aziX9yQr'}\n",
            "[0 0]\n",
            "0.0\n"
          ]
        },
        {
          "output_type": "error",
          "ename": "KeyboardInterrupt",
          "evalue": "",
          "traceback": [
            "\u001b[0;31m---------------------------------------------------------------------------\u001b[0m",
            "\u001b[0;31mKeyboardInterrupt\u001b[0m                         Traceback (most recent call last)",
            "\u001b[0;32m<ipython-input-25-95cac3476493>\u001b[0m in \u001b[0;36m<cell line: 1>\u001b[0;34m()\u001b[0m\n\u001b[0;32m----> 1\u001b[0;31m \u001b[0manvil\u001b[0m\u001b[0;34m.\u001b[0m\u001b[0mserver\u001b[0m\u001b[0;34m.\u001b[0m\u001b[0mwait_forever\u001b[0m\u001b[0;34m(\u001b[0m\u001b[0;34m)\u001b[0m\u001b[0;34m\u001b[0m\u001b[0;34m\u001b[0m\u001b[0m\n\u001b[0m",
            "\u001b[0;32m/usr/local/lib/python3.10/dist-packages/anvil/server.py\u001b[0m in \u001b[0;36mwait_forever\u001b[0;34m()\u001b[0m\n\u001b[1;32m    435\u001b[0m     \u001b[0m_get_connection\u001b[0m\u001b[0;34m(\u001b[0m\u001b[0;34m)\u001b[0m\u001b[0;34m\u001b[0m\u001b[0;34m\u001b[0m\u001b[0m\n\u001b[1;32m    436\u001b[0m     \u001b[0;32mwhile\u001b[0m \u001b[0;32mTrue\u001b[0m\u001b[0;34m:\u001b[0m\u001b[0;34m\u001b[0m\u001b[0;34m\u001b[0m\u001b[0m\n\u001b[0;32m--> 437\u001b[0;31m         \u001b[0mtime\u001b[0m\u001b[0;34m.\u001b[0m\u001b[0msleep\u001b[0m\u001b[0;34m(\u001b[0m\u001b[0;36m1\u001b[0m\u001b[0;34m)\u001b[0m\u001b[0;34m\u001b[0m\u001b[0;34m\u001b[0m\u001b[0m\n\u001b[0m",
            "\u001b[0;31mKeyboardInterrupt\u001b[0m: "
          ]
        }
      ]
    }
  ]
}
